{
 "cells": [
  {
   "cell_type": "code",
   "execution_count": 1,
   "metadata": {},
   "outputs": [],
   "source": [
    "#####################\n",
    "# Wang Zijia 1002885\n",
    "#####################\n",
    "# please change the file path first (in the 2nd cell)\n",
    "\n",
    "import math\n",
    "import operator\n",
    "\n",
    "import matplotlib.pyplot as plt\n",
    "from PIL import Image\n",
    "import numpy as np\n",
    "\n",
    "\n",
    "def k_means_algo(data, no_k, centroids):\n",
    "    distance = []\n",
    "    centroid_clusters = [[] for i in range(len(centroids))]\n",
    "    global n\n",
    "    total_cost = 0\n",
    "\n",
    "    # TODO 1 calculate the distance from the point to each centroid and store in dictionary,\n",
    "    #  format: {1:[12,3,4,54,543..(8 values)], 2:[..,..], ..., 210012: [...]}\n",
    "    for i in range(len(data)):\n",
    "        distance.append([calculate_euclidean_distance(data[i], centroids[j]) for j in range(len(centroids))])\n",
    "\n",
    "    # TODO 2 find the smallest distance in each distance.value,\n",
    "    #  and store the corresponding key into the sublist in centroid_clustors (there are len(centroids) sublists)\n",
    "    for i in range(len(distance)):\n",
    "        centroid_clusters[distance[i].index(min(distance[i]))].append(i)\n",
    "        total_cost += (min(distance[i]))**2\n",
    "\n",
    "    # TODO: plot the graph of cost against iteration number n\n",
    "    global n_x, total_cost_y\n",
    "    n_x.append(n)\n",
    "    total_cost_y.append(total_cost)\n",
    "\n",
    "    # TODO 3 remove empty cluster from the centroids and calculate the new centroids\n",
    "    non_empty_cluster_index = [centroid_clusters.index(cluster) for cluster in centroid_clusters if cluster != []]\n",
    "    cleared_centroids = [centroids[i] for i in non_empty_cluster_index]\n",
    "    cleared_centroid_clusters = [cluster for cluster in centroid_clusters if cluster]\n",
    "    new_centroids = recompute_centroids(cleared_centroids, cleared_centroid_clusters, data)\n",
    "\n",
    "    # print(\"centroids: \", centroids)\n",
    "    # print(\"new centroids: \", new_centroids)\n",
    "    if new_centroids == centroids and cleared_centroid_clusters == centroid_clusters:\n",
    "        # for getting the number of pixels in each cluster\n",
    "        num_pixel_in_clusters = []\n",
    "        for i in range(len(cleared_centroid_clusters)):\n",
    "            num_pixel_in_clusters.append(len(cleared_centroid_clusters[i]))\n",
    "\n",
    "        # plot the graph\n",
    "        plot_cost_against_n(n_x, total_cost_y)\n",
    "\n",
    "        print(\"resulted centroids: \", new_centroids)\n",
    "        print(\"number of pixels in each cluster: \", num_pixel_in_clusters)\n",
    "        return new_centroids, cleared_centroid_clusters\n",
    "    else:\n",
    "        n += 1\n",
    "        k_means_algo(data, no_k, new_centroids)\n",
    "        return new_centroids, cleared_centroid_clusters\n",
    "\n",
    "\n",
    "def generate_image(centroids, centroid_clusters, data):\n",
    "    rows, columns = 516, 407\n",
    "    pixel_cluster = {}\n",
    "    for i in range(len(centroid_clusters)):\n",
    "        for j in range(len(centroid_clusters[i])):\n",
    "            pixel_cluster[centroid_clusters[i][j]] = list(centroids[i])\n",
    "\n",
    "    pixel_value = [pixel_cluster[i][0:] for i in range(len(pixel_cluster))]\n",
    "    concat_pixel_value = bytes([int(j) for i in pixel_value for j in i])\n",
    "\n",
    "    img = Image.frombytes(\"RGB\", (columns, rows), concat_pixel_value)\n",
    "    img.show()\n",
    "    pass\n",
    "\n",
    "\n",
    "def plot_cost_against_n(n, total_cost):\n",
    "    # print(\"iterations: \", n, \"total cost: \", total_cost)\n",
    "    plt.plot(n, total_cost)\n",
    "    plt.show()\n",
    "    pass\n",
    "\n",
    "\n",
    "def recompute_centroids(centroids, centroid_clusters, data):\n",
    "    updated_centroids = []\n",
    "    for i in range(len(centroids)):\n",
    "        updated_centroids.append((1/len(centroid_clusters[i])*sum(data[index][0] for index in centroid_clusters[i]),\n",
    "                                  1/len(centroid_clusters[i])*sum(data[index][1] for index in centroid_clusters[i]),\n",
    "                                  1/len(centroid_clusters[i])*sum(data[index][2] for index in centroid_clusters[i])))\n",
    "    return updated_centroids\n",
    "\n",
    "\n",
    "def calculate_euclidean_distance(point1, point2):\n",
    "    distance = math.sqrt((point1[0]-point2[0])**2 + (point1[1]-point2[1])**2 + (point1[2]-point2[2])**2)\n",
    "    # print(distance)\n",
    "    return distance\n"
   ]
  },
  {
   "cell_type": "code",
   "execution_count": 2,
   "metadata": {},
   "outputs": [
    {
     "data": {
      "image/png": "[encoded data removed]",
      "text/plain": [
       "<Figure size 432x288 with 1 Axes>"
      ]
     },
     "metadata": {
      "needs_background": "light"
     },
     "output_type": "display_data"
    },
    {
     "name": "stdout",
     "output_type": "stream",
     "text": [
      "resulted centroids:  [(241.22961460446248, 238.62515212981745, 233.8628803245436), (194.4115865701119, 136.33311389071756, 90.94364713627385), (136.2655562958028, 61.08973065575331, 10.103854573141716), (157.2917327293318, 97.59397508493771, 51.43329558323896), (78.9274371361328, 37.10828688219993, 13.070704818530906), (25.978002322570312, 23.235754234686386, 23.605990629630124)]\n",
      "number of pixels in each cluster:  [4930, 15190, 52535, 22075, 40365, 74917]\n"
     ]
    }
   ],
   "source": [
    "if __name__ == \"__main__\":\n",
    "    input_file = \"C:/Users/87173/Desktop/term6/Machine Learning/Homework/HW2/HW2_data/1/hw2-image.txt\"\n",
    "\n",
    "    with open(input_file) as file:\n",
    "        lines = file.read().splitlines()\n",
    "    \n",
    "    n = 0  # iteration number\n",
    "    n_x = []\n",
    "    total_cost_y = []\n",
    "    \n",
    "    input_data = [tuple(int(x) for x in line.split()) for line in lines]\n",
    "    num_of_clusters = 8\n",
    "    initial_centroids = [(255, 255, 255), (255, 0, 0), (128, 0, 0), (0, 255, 0), (0, 128, 0), (0, 0, 255), (0, 0, 128), (0, 0, 0)]\n",
    "\n",
    "    new_centroids, centroid_clusters = k_means_algo(input_data, num_of_clusters, initial_centroids)\n",
    "\n",
    "    generate_image(new_centroids, centroid_clusters, input_data)\n"
   ]
  },
  {
   "cell_type": "code",
   "execution_count": null,
   "metadata": {},
   "outputs": [],
   "source": []
  },
  {
   "cell_type": "code",
   "execution_count": null,
   "metadata": {},
   "outputs": [],
   "source": []
  }
 ],
 "metadata": {
  "kernelspec": {
   "display_name": "Python 3",
   "language": "python",
   "name": "python3"
  },
  "language_info": {
   "codemirror_mode": {
    "name": "ipython",
    "version": 3
   },
   "file_extension": ".py",
   "mimetype": "text/x-python",
   "name": "python",
   "nbconvert_exporter": "python",
   "pygments_lexer": "ipython3",
   "version": "3.7.3"
  }
 },
 "nbformat": 4,
 "nbformat_minor": 2
}
