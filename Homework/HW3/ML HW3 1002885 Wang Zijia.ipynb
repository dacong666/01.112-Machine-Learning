{
 "cells": [
  {
   "cell_type": "markdown",
   "metadata": {},
   "source": [
    "# Question 1\n",
    "## SVM"
   ]
  },
  {
   "cell_type": "code",
   "execution_count": 26,
   "metadata": {},
   "outputs": [
    {
     "ename": "ModuleNotFoundError",
     "evalue": "No module named 'svmutil'",
     "output_type": "error",
     "traceback": [
      "\u001b[1;31m---------------------------------------------------------------------------\u001b[0m",
      "\u001b[1;31mModuleNotFoundError\u001b[0m                       Traceback (most recent call last)",
      "\u001b[1;32m<ipython-input-26-60ba7bb28e2c>\u001b[0m in \u001b[0;36m<module>\u001b[1;34m\u001b[0m\n\u001b[1;32m----> 1\u001b[1;33m \u001b[1;32mfrom\u001b[0m \u001b[0msvmutil\u001b[0m \u001b[1;32mimport\u001b[0m \u001b[1;33m*\u001b[0m\u001b[1;33m\u001b[0m\u001b[1;33m\u001b[0m\u001b[0m\n\u001b[0m\u001b[0;32m      2\u001b[0m \u001b[1;31m# Read data in LIBSVM format\u001b[0m\u001b[1;33m\u001b[0m\u001b[1;33m\u001b[0m\u001b[1;33m\u001b[0m\u001b[0m\n\u001b[0;32m      3\u001b[0m \u001b[1;31m# y, x = svm_read_problem('../heart_scale')\u001b[0m\u001b[1;33m\u001b[0m\u001b[1;33m\u001b[0m\u001b[1;33m\u001b[0m\u001b[0m\n\u001b[0;32m      4\u001b[0m \u001b[0mtrain_y\u001b[0m\u001b[1;33m,\u001b[0m \u001b[0mtrain_x\u001b[0m \u001b[1;33m=\u001b[0m \u001b[0msvm_read_problem\u001b[0m\u001b[1;33m(\u001b[0m\u001b[1;34m\"../../HW3_data/1/promoters/training.txt\"\u001b[0m\u001b[1;33m)\u001b[0m\u001b[1;33m\u001b[0m\u001b[1;33m\u001b[0m\u001b[0m\n\u001b[0;32m      5\u001b[0m \u001b[0mtest_y\u001b[0m\u001b[1;33m,\u001b[0m \u001b[0mtest_x\u001b[0m \u001b[1;33m=\u001b[0m \u001b[0msvm_read_problem\u001b[0m\u001b[1;33m(\u001b[0m\u001b[1;34m\"../../HW3_data/1/promoters/test.txt\"\u001b[0m\u001b[1;33m)\u001b[0m\u001b[1;33m\u001b[0m\u001b[1;33m\u001b[0m\u001b[0m\n",
      "\u001b[1;31mModuleNotFoundError\u001b[0m: No module named 'svmutil'"
     ]
    }
   ],
   "source": [
    "from svmutil import *\n",
    "# Read data in LIBSVM format\n",
    "# y, x = svm_read_problem('../heart_scale')\n",
    "train_y, train_x = svm_read_problem(\"../../HW3_data/1/promoters/training.txt\")\n",
    "test_y, test_x = svm_read_problem(\"../../HW3_data/1/promoters/test.txt\")\n",
    "\n",
    "# isKernel=True must be set for precomputed kernel\n",
    "prob0 = svm_problem(train_y, train_x, isKernel=True)\n",
    "param0 = svm_parameter('-t 0')\n",
    "m0 = svm_train(prob0, param0)\n",
    "p_label0, p_acc0, p_val0 = svm_predict(test_y, test_x, m0)\n",
    "\n",
    "prob1 = svm_problem(train_y, train_x, isKernel=True)\n",
    "param1 = svm_parameter('-t 1')\n",
    "m1 = svm_train(prob1, param1)\n",
    "p_label1, p_acc1, p_val1 = svm_predict(test_y, test_x, m1)\n",
    "\n",
    "prob2 = svm_problem(train_y, train_x, isKernel=True)\n",
    "param2 = svm_parameter('-t 2')\n",
    "m2 = svm_train(prob1, param1)\n",
    "p_label2, p_acc2, p_val2 = svm_predict(test_y, test_x, m2)\n",
    "\n",
    "prob3 = svm_problem(train_y, train_x, isKernel=True)\n",
    "param3 = svm_parameter('-t 3')\n",
    "m3 = svm_train(prob3, param3)\n",
    "p_label3, p_acc3, p_val3 = svm_predict(test_y, test_x, m3)\n"
   ]
  },
  {
   "cell_type": "markdown",
   "metadata": {},
   "source": [
    "# Question 4\n",
    "## Logistic regression"
   ]
  },
  {
   "cell_type": "code",
   "execution_count": 27,
   "metadata": {},
   "outputs": [],
   "source": [
    "from random import *\n",
    "import numpy as np\n",
    "import math\n",
    "import random\n",
    "import matplotlib.pyplot as plt\n",
    "\n",
    "\n",
    "# (a) genreate 1000 probabilties and multiplying them together\n",
    "def multiply_probabilities(n):\n",
    "    prob_list = [random() for i in range(n)]\n",
    "    result = np.prod(prob_list)\n",
    "    # print(result)\n",
    "\n",
    "\n",
    "# (b) To train a logistic regression model with SGD\n",
    "def calculate_weight_theta_stochastic_gradient(matrix_x, matrix_y, eta, threshold):\n",
    "    n = len(matrix_x)\n",
    "\n",
    "    matrix_x = np.array(matrix_x)\n",
    "    matrix_x = np.c_[matrix_x, np.ones(n)]  # append a column of ones for calculating offset\n",
    "    matrix_y = np.array(matrix_y)\n",
    "    theta = np.array([0.0 for i in range(len(matrix_x[0]))])\n",
    "\n",
    "    saved_weight = []\n",
    "    likelihood_x = []\n",
    "    likelihood_y = []\n",
    "    risk_result = 3000\n",
    "    for iter_no in range(0, threshold):\n",
    "        i = random.randint(0, n-1)\n",
    "        y = matrix_y[i]\n",
    "        x = matrix_x[i]\n",
    "        predicted_y = np.dot(x, theta)\n",
    "        # update theta\n",
    "        theta += eta*(y*x/(1+math.exp(y*predicted_y)))\n",
    "\n",
    "        empirical_risk = 1/n*sum([math.log(1+math.exp(-matrix_y[j]*np.dot(matrix_x[j], theta))) for j in range(0, n)])\n",
    "\n",
    "        if empirical_risk < risk_result:\n",
    "            risk_result = empirical_risk\n",
    "            theta_result = list(theta)\n",
    "\n",
    "        # save the weight and likelihood every 100 iter\n",
    "        if (iter_no+1) % 100 == 0:\n",
    "            saved_theta = list(theta)\n",
    "            saved_weight.append(saved_theta)\n",
    "            \n",
    "            # calculate likelihood\n",
    "            likelihood = sum([math.log(math.exp(matrix_y[j]*np.dot(matrix_x[j], theta))/(1+math.exp(matrix_y[j]*np.dot(matrix_x[j], theta)))) for j in range(0, n)])\n",
    "\n",
    "            likelihood_x.append(iter_no+1)\n",
    "            likelihood_y.append(likelihood)\n",
    "\n",
    "    # plot the log-likelihood of the training data at every 100 iterations\n",
    "    plt.plot(likelihood_x, likelihood_y)\n",
    "    plt.show()\n",
    "\n",
    "    print(\"theta: \", theta_result[:20])\n",
    "    print(\"theta offset: \", theta_result[-1])\n",
    "    return theta_result[:20], theta_result[-1]\n",
    "\n"
   ]
  },
  {
   "cell_type": "code",
   "execution_count": 29,
   "metadata": {},
   "outputs": [
    {
     "data": {
      "image/png": "[encoded data removed]",
      "text/plain": [
       "<Figure size 432x288 with 1 Axes>"
      ]
     },
     "metadata": {
      "needs_background": "light"
     },
     "output_type": "display_data"
    },
    {
     "name": "stdout",
     "output_type": "stream",
     "text": [
      "theta:  [2.7516340106496737, -8.29652853588282, 3.826048052696864, -0.07977170291512987, 0.3234257987199456, 0.13194014728111034, 0.11701206984246361, 0.08823231346303782, -0.009281502432314391, 0.04463229278808116, 0.11685483664095458, 0.1615663487099599, 0.2193824191084264, -0.1287803953497572, 0.13115737471495612, 0.005472900178445764, 0.5384717322246192, -0.18249569418963155, -7.84539678084169, 4.142052118485456]\n",
      "theta offset:  0.49260631292838886\n"
     ]
    }
   ],
   "source": [
    "\n",
    "if __name__ == '__main__':\n",
    "    # multiply_probabilities(1000)\n",
    "\n",
    "    train_file = \"C:/Users/87173/Desktop/term6/Machine Learning/Homework/HW3/HW3_data/4/diabetes_train.csv\"\n",
    "    with open(train_file) as train_file:\n",
    "        lines = train_file.read().splitlines()\n",
    "\n",
    "    train_data = [line.replace(',', '').split() for line in lines]\n",
    "    train_y = [float(row[0]) for row in train_data]\n",
    "    train_x_str = [row[1:] for row in train_data]\n",
    "    train_x = [list(map(float, sublist)) for sublist in train_x_str]\n",
    "\n",
    "    calculate_weight_theta_stochastic_gradient(train_x, train_y, eta=0.1, threshold=10000)\n"
   ]
  },
  {
   "cell_type": "code",
   "execution_count": null,
   "metadata": {},
   "outputs": [],
   "source": []
  }
 ],
 "metadata": {
  "kernelspec": {
   "display_name": "Python 3",
   "language": "python",
   "name": "python3"
  },
  "language_info": {
   "codemirror_mode": {
    "name": "ipython",
    "version": 3
   },
   "file_extension": ".py",
   "mimetype": "text/x-python",
   "name": "python",
   "nbconvert_exporter": "python",
   "pygments_lexer": "ipython3",
   "version": "3.7.3"
  }
 },
 "nbformat": 4,
 "nbformat_minor": 2
}
