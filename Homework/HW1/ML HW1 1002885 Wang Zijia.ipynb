{
 "cells": [
  {
   "cell_type": "markdown",
   "metadata": {},
   "source": [
    "# Question 1: Linear classfication "
   ]
  },
  {
   "cell_type": "code",
   "execution_count": 1,
   "metadata": {},
   "outputs": [],
   "source": [
    "def train(train_file, threshold):\n",
    "    with open(train_file) as train_file:\n",
    "        lines = train_file.read().splitlines()\n",
    "    train_date = [line.split(',') for line in lines]\n",
    "\n",
    "    symmetry_value = [float(data[0]) for data in train_date]\n",
    "    intensity_value = [float(data[1]) for data in train_date]\n",
    "    label_value = [float(data[2]) for data in train_date]\n",
    "\n",
    "    # initiate theta value\n",
    "    theta = [0, 0]\n",
    "    iter_no = 0\n",
    "    while iter_no < threshold:\n",
    "        for i in range(0, len(train_date)):\n",
    "            if label_value[i]*(theta[0]*symmetry_value[i] + theta[1]*intensity_value[i]) <= 0:\n",
    "                theta[0] += label_value[i]*symmetry_value[i]\n",
    "                theta[1] += label_value[i]*intensity_value[i]\n",
    "            else:\n",
    "                pass\n",
    "        iter_no += 1\n",
    "    print(\"when iteration={}, theta is {}\".format(threshold, theta))\n",
    "    return theta\n",
    "\n",
    "def predict(test_file, theta):\n",
    "    with open(test_file) as test_file:\n",
    "        lines = test_file.read().splitlines()\n",
    "    test_date = [line.split(',') for line in lines]\n",
    "\n",
    "    symmetry_value = [float(data[0]) for data in test_date]\n",
    "    intensity_value = [float(data[1]) for data in test_date]\n",
    "    label_value = [float(data[2]) for data in test_date]\n",
    "\n",
    "    predicted_label = []\n",
    "    for i in range(0, len(test_date)):\n",
    "        predicted_value = theta[0]*symmetry_value[i] + theta[1]*intensity_value[i]\n",
    "        if predicted_value >= 0:\n",
    "            predicted_label.append(1.0)\n",
    "        else:\n",
    "            predicted_label.append(-1.0)\n",
    "    correct_num = 0\n",
    "    if len(label_value) == len(predicted_label):\n",
    "        for i in range(0, len(label_value)):\n",
    "            correct_num += 1 if label_value[i] == predicted_label[i] else 0\n",
    "    else:\n",
    "        print(\"something went wrong.\")\n",
    "\n",
    "    accuracy = correct_num/len(label_value)\n",
    "    print(\"when theta = {}, the accuracy: {}\".format(theta, accuracy))\n"
   ]
  },
  {
   "cell_type": "markdown",
   "metadata": {},
   "source": [
    "## (a) Run the perceptron algorithm for 5 interations"
   ]
  },
  {
   "cell_type": "code",
   "execution_count": 2,
   "metadata": {},
   "outputs": [
    {
     "name": "stdout",
     "output_type": "stream",
     "text": [
      "when iteration=5, theta is [-1.1269491749773728, -2.9300171653878735]\n",
      "when theta = [-1.1269491749773728, -2.9300171653878735], the accuracy: 0.9660678642714571\n"
     ]
    }
   ],
   "source": [
    "train_1 = \"C:/Users/87173/Desktop/term6/Machine Learning/Homework/HW1/data/1/train_1_5.csv\"\n",
    "test_1 = \"C:/Users/87173/Desktop/term6/Machine Learning/Homework/HW1/data/1/test_1_5.csv\"\n",
    "\n",
    "# set the threshold as how many iterations you want to run perceptron algorithm\n",
    "theta = train(train_1, threshold=5)\n",
    "predict(test_1, theta)"
   ]
  },
  {
   "cell_type": "markdown",
   "metadata": {},
   "source": [
    "## (b) Run the perceptron algorithm for 10 interations"
   ]
  },
  {
   "cell_type": "code",
   "execution_count": 3,
   "metadata": {},
   "outputs": [
    {
     "name": "stdout",
     "output_type": "stream",
     "text": [
      "when iteration=10, theta is [-1.1593800264589689, -3.0299410655260175]\n",
      "when theta = [-1.1593800264589689, -3.0299410655260175], the accuracy: 0.9670658682634731\n"
     ]
    }
   ],
   "source": [
    "theta_2 = train(train_1, threshold=10)\n",
    "predict(test_1, theta_2)"
   ]
  },
  {
   "cell_type": "markdown",
   "metadata": {},
   "source": [
    "# Question 2: Linear and polynomial regression"
   ]
  },
  {
   "cell_type": "code",
   "execution_count": 4,
   "metadata": {},
   "outputs": [],
   "source": [
    "import random\n",
    "\n",
    "import matplotlib.pyplot as plt\n",
    "from numpy.linalg import inv\n",
    "import numpy as np\n",
    "\n",
    "\n",
    "# TODO: (a) Load the data and plot it\n",
    "def load_plot_data(input_file, output_file):\n",
    "    with open(input_file) as input_file:\n",
    "        input_lines = input_file.read().splitlines()\n",
    "    with open(output_file) as output_file:\n",
    "        output_lines = output_file.read().splitlines()\n",
    "\n",
    "    # Clear input data\n",
    "    input_data_str = list(filter(None, [line.replace('   ', '') for line in input_lines]))\n",
    "    input_data = [float(data) for data in input_data_str]\n",
    "    output_data_str = list(filter(None, [line.replace('   ', '') for line in output_lines]))\n",
    "    output_data = [float(data) for data in output_data_str]\n",
    "\n",
    "    plt.plot(input_data, output_data, 'o', markersize=1)\n",
    "\n",
    "    plt.show()\n",
    "\n",
    "\n",
    "# TODO: (b) Implement the closed form linear regression formula to obtain the weight vector theta.\n",
    "#  Plot both the linear regression line and the data on the same graph\n",
    "def calculate_weight_theta_closed_form(input_file, output_file):\n",
    "    with open(input_file) as input_file:\n",
    "        input_lines = input_file.read().splitlines()\n",
    "    with open(output_file) as output_file:\n",
    "        output_lines = output_file.read().splitlines()\n",
    "\n",
    "    # Clear input data\n",
    "    input_data_str = list(filter(None, [line.replace('   ', '') for line in input_lines]))\n",
    "    input_data = [[1.0, float(data)] for data in input_data_str]\n",
    "    output_data_str = list(filter(None, [line.replace('   ', '') for line in output_lines]))\n",
    "    output_data = [float(data) for data in output_data_str]\n",
    "\n",
    "    n = len(input_data)\n",
    "    # Calculate matrix A\n",
    "    matrix_x = np.array(input_data)\n",
    "    matrix_x_T = matrix_x.transpose()\n",
    "    matrix_a = np.array(1/n*np.dot(matrix_x_T, matrix_x), dtype='float')\n",
    "    inv_matrix_a = inv(matrix_a)\n",
    "    # Calculate b\n",
    "    matrix_y = np.array(output_data)\n",
    "    matrix_b = 1/n*np.dot(matrix_x_T, matrix_y)\n",
    "    # Calculate theta\n",
    "    theta = np.dot(inv_matrix_a, matrix_b)\n",
    "    print(\"theta(closed form): \", theta)\n",
    "\n",
    "    matrix_predicted_y = np.dot(matrix_x, theta)\n",
    "\n",
    "    plt.plot(matrix_x[:, 1], matrix_y, 'o', markersize=1)\n",
    "    plt.plot(matrix_x[:, 1], matrix_predicted_y, 'g')\n",
    "    plt.show()\n",
    "    return matrix_x, matrix_y, matrix_predicted_y\n",
    "\n",
    "\n",
    "# TODO: (c) Evaluate the training error in terms of empirical risk of the resulting fit in 2(b)\n",
    "#  and report the error.\n",
    "def calculate_training_error(matrix_x, matrix_y, matrix_predicted_y):\n",
    "    n = len(matrix_x)\n",
    "    empirical_risk = 1/n * sum([((matrix_y[i]-matrix_predicted_y[i])**2)/2 for i in range(0, n)])\n",
    "    print(\"empirical_risk(closed_form): \", empirical_risk)\n",
    "    return empirical_risk\n",
    "\n",
    "\n",
    "# TODO: (d) Calculate weight vector theta using gradient descent with eta=0.01, threshold=100\n",
    "def calculate_weight_theta_gradient_descent(matrix_x, matrix_y, eta, threshold):\n",
    "    theta = np.array([0.0, 0.0])\n",
    "    n = len(matrix_x)\n",
    "    risk_result = 500\n",
    "\n",
    "    for iter_no in range(0, threshold):\n",
    "        for i in range(0, n):\n",
    "            y = matrix_y[i]\n",
    "            predicted_y = np.dot(matrix_x[i], theta)\n",
    "            theta += eta*(y-predicted_y)*matrix_x[i]\n",
    "            empirical_risk = 1 / n * sum([((matrix_y[i] - np.dot(matrix_x, theta)[i]) ** 2) / 2 for i in range(0, n)])\n",
    "            if empirical_risk < risk_result:\n",
    "                risk_result = empirical_risk\n",
    "                theta_result = list(theta)\n",
    "\n",
    "    print(\"theta(gradient_descent): \", theta_result)\n",
    "    print(\"empirical_risk(gradient_descent): \", risk_result)\n",
    "    return theta\n",
    "\n",
    "\n",
    "# TODO: (e) Calculate weight vector theta using stochastic gradient descent with eta=0.01, threshold=50\n",
    "def calculate_weight_theta_stochastic_gradient(matrix_x, matrix_y, eta, threshold):\n",
    "    theta = np.array([0.0, 0.0])\n",
    "    n = len(matrix_x)\n",
    "    risk_result = 500\n",
    "    for iter_no in range(0, threshold):\n",
    "        i = random.randint(0, n-1)\n",
    "        y = matrix_y[i]\n",
    "        predicted_y = np.dot(matrix_x[i], theta)\n",
    "        theta += eta*(y-predicted_y)*matrix_x[i]\n",
    "        empirical_risk = 1 / n * sum([((matrix_y[i] - np.dot(matrix_x, theta)[i]) ** 2) / 2 for i in range(0, n)])\n",
    "\n",
    "        if empirical_risk < risk_result:\n",
    "            risk_result = empirical_risk\n",
    "            theta_result = theta\n",
    "\n",
    "    print(\"theta(stochastic_gradient): \", theta_result)\n",
    "    print(\"empirical_risk(stochastic_gradient): \", risk_result)\n",
    "    return theta\n",
    "\n",
    "\n",
    "# TODO: (f) Add the features x^2, x^3, ...x^d to the inputs and\n",
    "#  performs polynomial regression using closed form solution\n",
    "def PolyRegress(x, y, d):\n",
    "    with open(x) as input_file:\n",
    "        input_lines = input_file.read().splitlines()\n",
    "    with open(y) as output_file:\n",
    "        output_lines = output_file.read().splitlines()\n",
    "\n",
    "    # Clear input data\n",
    "    input_data_str = list(filter(None, [line.replace('   ', '') for line in input_lines]))\n",
    "    input_data = [[float(data)] for data in input_data_str]\n",
    "    initial_x = np.array(input_data)\n",
    "    temp = np.ones(shape=initial_x.shape)\n",
    "    matrix_x = np.concatenate((temp.reshape(-1, 1), initial_x.reshape(-1, 1)), 1)\n",
    "    if d >= 2:\n",
    "        for i in range(2, d+1):\n",
    "            matrix_x = np.concatenate((matrix_x, (initial_x**i).reshape(-1, 1)), 1)\n",
    "\n",
    "    output_data_str = list(filter(None, [line.replace('   ', '') for line in output_lines]))\n",
    "    output_data = [float(data) for data in output_data_str]\n",
    "\n",
    "    n = len(input_data)\n",
    "    # Calculate matrix A\n",
    "    matrix_x_T = matrix_x.transpose()\n",
    "    matrix_a = np.array(1/n*np.dot(matrix_x_T, matrix_x), dtype='float')\n",
    "    inv_matrix_a = inv(matrix_a)\n",
    "    # Calculate b\n",
    "    matrix_y = np.array(output_data)\n",
    "    matrix_b = 1/n*np.dot(matrix_x_T, matrix_y)\n",
    "    # Calculate theta\n",
    "    theta = np.dot(inv_matrix_a, matrix_b)\n",
    "    print(\"theta(poly regression for d = {}): \".format(d), theta)\n",
    "    matrix_predicted_y = np.dot(matrix_x, theta)\n",
    "\n",
    "    return matrix_x, matrix_y, theta, matrix_predicted_y\n",
    "\n",
    "\n",
    "# TODO: (g) Get a quadratic fit of the data. Plot the data and the fit. Report the training error.\n",
    "#  Repeat the same for 3rd order fit to 9th order fit.\n",
    "def training_error_for_poly_regression(input_file, output_file):\n",
    "    training_error_dic = {}\n",
    "    # for quadratic fit\n",
    "    matrix_x, matrix_y, theta, matrix_predicted_y = PolyRegress(input_file, output_file, d=2)\n",
    "    n = len(matrix_x)\n",
    "    empirical_risk = 1 / n * sum([((matrix_y[i] - np.dot(matrix_x, theta)[i]) ** 2) / 2 for i in range(0, n)])\n",
    "\n",
    "    training_error_dic[\"quadratic fit\"] = empirical_risk\n",
    "    print(\"training error for a quadratic fit: \", empirical_risk)\n",
    "    plt.plot(matrix_x[:, 1], matrix_y, 'o', markersize=1)\n",
    "    plt.plot(matrix_x[:, 1], matrix_predicted_y, 'g')\n",
    "    plt.show()\n",
    "    for i in range(3, 10):\n",
    "        matrix_x, matrix_y, theta, matrix_predicted_y = PolyRegress(input_file, output_file, d=i)\n",
    "        empirical_risk = 1 / n * sum([((matrix_y[i] - np.dot(matrix_x, theta)[i]) ** 2) / 2 for i in range(0, n)])\n",
    "        training_error_dic[\"{}th order fit\".format(i)] = empirical_risk\n",
    "        print(\"training error for a {}th order fit: \".format(i), empirical_risk)\n",
    "        plt.plot(matrix_x[:, 1], matrix_y, 'o', markersize=1)\n",
    "        plt.plot(matrix_x[:, 1], matrix_predicted_y, 'g')\n",
    "        plt.show()\n",
    "    print(\"training error from 3th order fit to 9th order fit: \", training_error_dic)"
   ]
  },
  {
   "cell_type": "markdown",
   "metadata": {},
   "source": [
    "## (a) Load the data and plot it"
   ]
  },
  {
   "cell_type": "code",
   "execution_count": 5,
   "metadata": {},
   "outputs": [
    {
     "data": {
      "image/png": "[encoded data removed]",
      "text/plain": [
       "<Figure size 432x288 with 1 Axes>"
      ]
     },
     "metadata": {
      "needs_background": "light"
     },
     "output_type": "display_data"
    }
   ],
   "source": [
    "input_file = \"C:/Users/87173/Desktop/term6/Machine Learning/Homework/HW1/data/2/hw1x.dat\"\n",
    "output_file = \"C:/Users/87173/Desktop/term6/Machine Learning/Homework/HW1/data/2/hw1y.dat\"\n",
    "\n",
    "load_plot_data(input_file, output_file)\n",
    "    "
   ]
  },
  {
   "cell_type": "markdown",
   "metadata": {},
   "source": [
    "## (b) Obtain the weoght vector theta from the closed form linear regression formula and plot the graph"
   ]
  },
  {
   "cell_type": "code",
   "execution_count": 6,
   "metadata": {},
   "outputs": [
    {
     "name": "stdout",
     "output_type": "stream",
     "text": [
      "theta(closed form):  [3.2447227  1.78157138]\n"
     ]
    },
    {
     "data": {
      "image/png": "[encoded data removed]",
      "text/plain": [
       "<Figure size 432x288 with 1 Axes>"
      ]
     },
     "metadata": {
      "needs_background": "light"
     },
     "output_type": "display_data"
    }
   ],
   "source": [
    "matrix_x, matrix_y, matrix_predicted_y = calculate_weight_theta_closed_form(input_file, output_file)"
   ]
  },
  {
   "cell_type": "markdown",
   "metadata": {},
   "source": [
    "## (c) Evaluate the training error in terms of empirical risk of the resulting fir in 2(b) and report the error"
   ]
  },
  {
   "cell_type": "code",
   "execution_count": 7,
   "metadata": {},
   "outputs": [
    {
     "name": "stdout",
     "output_type": "stream",
     "text": [
      "empirical_risk(closed_form):  0.5812605752543937\n"
     ]
    },
    {
     "data": {
      "text/plain": [
       "0.5812605752543937"
      ]
     },
     "execution_count": 7,
     "metadata": {},
     "output_type": "execute_result"
    }
   ],
   "source": [
    "calculate_training_error(matrix_x, matrix_y, matrix_predicted_y)"
   ]
  },
  {
   "cell_type": "markdown",
   "metadata": {},
   "source": [
    "## (d) Calculate the weight vector theta using gradient descent. consider the learning rate eta=0.01 and the number of iterations as 100. Report theta for minimum empirical risk from all the iterations."
   ]
  },
  {
   "cell_type": "code",
   "execution_count": 8,
   "metadata": {},
   "outputs": [
    {
     "name": "stdout",
     "output_type": "stream",
     "text": [
      "theta(gradient_descent):  [3.1063839321716147, 1.89593270838936]\n",
      "empirical_risk(gradient_descent):  0.583714184922541\n"
     ]
    },
    {
     "data": {
      "text/plain": [
       "array([3.13074422, 1.96402963])"
      ]
     },
     "execution_count": 8,
     "metadata": {},
     "output_type": "execute_result"
    }
   ],
   "source": [
    "calculate_weight_theta_gradient_descent(matrix_x, matrix_y, eta=0.01, threshold=100)"
   ]
  },
  {
   "cell_type": "markdown",
   "metadata": {},
   "source": [
    "## (e) Calculate the weight vector theta using stochastic gradient descent. consider the learning rate eta=0.01 and the number of iterations as 50. Report theta for minimum empirical risk from all the iterations."
   ]
  },
  {
   "cell_type": "code",
   "execution_count": 9,
   "metadata": {},
   "outputs": [
    {
     "name": "stdout",
     "output_type": "stream",
     "text": [
      "theta(stochastic_gradient):  [1.57192688 1.66102805]\n",
      "empirical_risk(stochastic_gradient):  2.192796007951083\n"
     ]
    },
    {
     "data": {
      "text/plain": [
       "array([1.57192688, 1.66102805])"
      ]
     },
     "execution_count": 9,
     "metadata": {},
     "output_type": "execute_result"
    }
   ],
   "source": [
    "calculate_weight_theta_stochastic_gradient(matrix_x, matrix_y, eta=0.01, threshold=50)"
   ]
  },
  {
   "cell_type": "markdown",
   "metadata": {},
   "source": [
    "## (f) Perform polynomial regression using closed form solution"
   ]
  },
  {
   "cell_type": "code",
   "execution_count": 10,
   "metadata": {},
   "outputs": [
    {
     "name": "stdout",
     "output_type": "stream",
     "text": [
      "theta(poly regression for d = 5):  [ 3.7181433  -0.1354222   0.48154349  3.53113473 -3.60926334  0.99150956]\n"
     ]
    },
    {
     "data": {
      "text/plain": [
       "(array([[1.00000000e+00, 1.00000000e-02, 1.00000000e-04, 1.00000000e-06,\n",
       "         1.00000000e-08, 1.00000000e-10],\n",
       "        [1.00000000e+00, 2.00000000e-02, 4.00000000e-04, 8.00000000e-06,\n",
       "         1.60000000e-07, 3.20000000e-09],\n",
       "        [1.00000000e+00, 3.00000000e-02, 9.00000000e-04, 2.70000000e-05,\n",
       "         8.10000000e-07, 2.43000000e-08],\n",
       "        ...,\n",
       "        [1.00000000e+00, 1.98000000e+00, 3.92040000e+00, 7.76239200e+00,\n",
       "         1.53695362e+01, 3.04316816e+01],\n",
       "        [1.00000000e+00, 1.99000000e+00, 3.96010000e+00, 7.88059900e+00,\n",
       "         1.56823920e+01, 3.12079601e+01],\n",
       "        [1.00000000e+00, 2.00000000e+00, 4.00000000e+00, 8.00000000e+00,\n",
       "         1.60000000e+01, 3.20000000e+01]]),\n",
       " array([3.5576671 , 4.873885  , 0.80115314, 3.9421733 , 3.4187652 ,\n",
       "        1.8123117 , 2.706408  , 3.5026245 , 6.7583969 , 5.969437  ,\n",
       "        1.8701131 , 6.2749235 , 3.9854042 , 3.2169451 , 4.0147429 ,\n",
       "        3.1150339 , 3.2158557 , 4.8496976 , 4.7890345 , 4.8171924 ,\n",
       "        4.0914971 , 2.2325131 , 4.1772387 , 5.1102353 , 3.9888938 ,\n",
       "        4.554693  , 4.2668851 , 3.2565591 , 3.8738715 , 2.8127172 ,\n",
       "        4.5083956 , 2.4929299 , 2.5911295 , 2.8705013 , 0.75571584,\n",
       "        5.1583803 , 4.0651905 , 3.0050717 , 5.1502985 , 2.0884836 ,\n",
       "        3.7177576 , 3.598553  , 4.1792067 , 4.1928586 , 3.0351201 ,\n",
       "        3.8899487 , 3.775121  , 4.5877073 , 5.0732657 , 5.1092733 ,\n",
       "        3.1563472 , 4.1173591 , 2.845883  , 2.9664993 , 4.0931507 ,\n",
       "        5.6526303 , 3.3703341 , 4.5313788 , 3.9544156 , 5.3173561 ,\n",
       "        3.1309357 , 4.2725575 , 4.812527  , 5.3806102 , 5.8442119 ,\n",
       "        4.4059311 , 2.8484097 , 3.6176982 , 3.3184183 , 6.7504572 ,\n",
       "        3.8043981 , 5.1880768 , 4.2675815 , 5.3686104 , 3.7351508 ,\n",
       "        3.117731  , 3.1176241 , 5.0481939 , 4.4026248 , 4.4039465 ,\n",
       "        6.0393102 , 4.9315844 , 4.8578111 , 6.2676991 , 3.895534  ,\n",
       "        5.4166244 , 5.5750882 , 4.5162849 , 4.9956701 , 3.6341561 ,\n",
       "        3.6720472 , 4.9448747 , 5.582254  , 7.4654913 , 4.2331093 ,\n",
       "        5.107331  , 4.8575056 , 3.0269771 , 4.5410338 , 3.2053212 ,\n",
       "        5.8603755 , 4.1519679 , 5.1600928 , 4.5354711 , 5.4035208 ,\n",
       "        4.5196734 , 5.6299653 , 5.8993631 , 6.8918878 , 5.0058765 ,\n",
       "        3.0816447 , 4.4004113 , 6.6145943 , 4.2078447 , 6.2609539 ,\n",
       "        5.4440498 , 6.7766966 , 3.3991    , 5.1823018 , 4.1921545 ,\n",
       "        8.328008  , 6.2652189 , 6.838972  , 4.4218197 , 5.0313844 ,\n",
       "        5.2475306 , 6.6384246 , 5.2821281 , 6.2815415 , 3.5481837 ,\n",
       "        5.26615   , 4.8164135 , 4.082943  , 6.1879747 , 5.9819841 ,\n",
       "        5.7534799 , 4.4063221 , 6.8874923 , 6.1301794 , 5.500934  ,\n",
       "        5.8428898 , 5.5780046 , 4.1097876 , 5.594349  , 5.0686335 ,\n",
       "        4.9407937 , 4.7835983 , 5.4264429 , 3.9773643 , 6.9642294 ,\n",
       "        6.5400601 , 6.0199721 , 6.0252289 , 5.2818364 , 7.1186853 ,\n",
       "        5.9867825 , 5.4254698 , 7.5113858 , 5.9552289 , 5.610971  ,\n",
       "        5.9262464 , 5.3920738 , 5.1398717 , 8.8059997 , 7.9554976 ,\n",
       "        6.6275352 , 5.0828816 , 5.494532  , 6.2034659 , 7.1914161 ,\n",
       "        5.0879956 , 4.1101328 , 5.0109027 , 6.8135108 , 6.8913536 ,\n",
       "        6.9716794 , 6.4097153 , 6.7436891 , 6.103847  , 7.4620216 ,\n",
       "        5.2583055 , 7.0950296 , 5.8112906 , 6.3451131 , 7.2527833 ,\n",
       "        7.7590907 , 5.6223613 , 8.0206587 , 7.4401431 , 6.7321344 ,\n",
       "        6.6247788 , 6.6223936 , 6.5568924 , 6.9030456 , 6.9512904 ,\n",
       "        7.7460628 , 8.4669767 , 7.4269144 , 6.7702867 , 7.6251904 ]),\n",
       " array([ 3.7181433 , -0.1354222 ,  0.48154349,  3.53113473, -3.60926334,\n",
       "         0.99150956]),\n",
       " array([3.71684073, 3.71565515, 3.71460647, 3.71371374, 3.7129952 ,\n",
       "        3.71246825, 3.7121495 , 3.71205476, 3.71219905, 3.71259664,\n",
       "        3.71326101, 3.71420492, 3.71544038, 3.71697867, 3.71883038,\n",
       "        3.72100539, 3.72351289, 3.72636139, 3.72955874, 3.73311214,\n",
       "        3.73702816, 3.74131272, 3.74597113, 3.75100812, 3.75642779,\n",
       "        3.76223368, 3.76842876, 3.77501544, 3.78199558, 3.78937053,\n",
       "        3.79714109, 3.80530756, 3.81386975, 3.82282698, 3.8321781 ,\n",
       "        3.84192148, 3.85205507, 3.86257636, 3.87348243, 3.88476992,\n",
       "        3.89643509, 3.90847382, 3.92088157, 3.93365348, 3.9467843 ,\n",
       "        3.96026847, 3.97410006, 3.98827286, 4.00278033, 4.01761563,\n",
       "        4.03277166, 4.04824102, 4.06401609, 4.08008896, 4.09645151,\n",
       "        4.11309539, 4.13001203, 4.14719267, 4.16462837, 4.18230999,\n",
       "        4.20022825, 4.2183737 , 4.23673676, 4.25530771, 4.27407673,\n",
       "        4.29303388, 4.31216914, 4.33147241, 4.35093349, 4.37054216,\n",
       "        4.39028815, 4.41016114, 4.43015079, 4.45024676, 4.47043871,\n",
       "        4.49071632, 4.51106929, 4.53148734, 4.55196028, 4.57247794,\n",
       "        4.59303026, 4.61360723, 4.63419898, 4.65479571, 4.67538775,\n",
       "        4.69596559, 4.71651983, 4.73704125, 4.75752079, 4.77794956,\n",
       "        4.7983189 , 4.81862031, 4.83884553, 4.85898652, 4.87903549,\n",
       "        4.8989849 , 4.91882747, 4.93855619, 4.95816435, 4.97764553,\n",
       "        4.99699364, 5.01620288, 5.03526782, 5.05418335, 5.07294475,\n",
       "        5.09154763, 5.10998803, 5.12826234, 5.1463674 , 5.16430043,\n",
       "        5.1820591 , 5.19964152, 5.21704626, 5.23427235, 5.2513193 ,\n",
       "        5.26818711, 5.28487627, 5.3013878 , 5.31772325, 5.3338847 ,\n",
       "        5.34987477, 5.36569664, 5.3813541 , 5.39685148, 5.41219373,\n",
       "        5.42738641, 5.4424357 , 5.45734839, 5.47213196, 5.4867945 ,\n",
       "        5.5013448 , 5.51579231, 5.5301472 , 5.54442031, 5.55862322,\n",
       "        5.57276824, 5.58686839, 5.60093748, 5.61499007, 5.62904148,\n",
       "        5.64310784, 5.65720606, 5.67135387, 5.68556984, 5.69987335,\n",
       "        5.71428464, 5.7288248 , 5.7435158 , 5.75838049, 5.77344262,\n",
       "        5.78872683, 5.80425869, 5.82006471, 5.83617233, 5.85260994,\n",
       "        5.8694069 , 5.88659355, 5.90420124, 5.92226228, 5.94081002,\n",
       "        5.95987883, 5.97950413, 5.99972237, 6.02057107, 6.04208882,\n",
       "        6.0643153 , 6.08729128, 6.11105866, 6.13566042, 6.16114072,\n",
       "        6.18754482, 6.21491917, 6.24331138, 6.27277022, 6.30334569,\n",
       "        6.33508896, 6.36805243, 6.40228972, 6.43785571, 6.47480651,\n",
       "        6.5131995 , 6.55309334, 6.59454797, 6.63762464, 6.6823859 ,\n",
       "        6.72889563, 6.77721904, 6.82742269, 6.8795745 , 6.93374375,\n",
       "        6.99000112, 7.04841868, 7.10906989, 7.17202964, 7.23737427,\n",
       "        7.30518152, 7.37553061, 7.44850223, 7.52417853, 7.60264317]))"
      ]
     },
     "execution_count": 10,
     "metadata": {},
     "output_type": "execute_result"
    }
   ],
   "source": [
    "PolyRegress(input_file, output_file, d=5)"
   ]
  },
  {
   "cell_type": "markdown",
   "metadata": {},
   "source": [
    "## (g) Plot the data and the quadratic fit. Report the training error. "
   ]
  },
  {
   "cell_type": "markdown",
   "metadata": {},
   "source": [
    "ANSWER: the quadratic fit is a better fit. from 3th fit to 9th order fit, the order fit which the error get worse is not observed."
   ]
  },
  {
   "cell_type": "code",
   "execution_count": 11,
   "metadata": {},
   "outputs": [
    {
     "name": "stdout",
     "output_type": "stream",
     "text": [
      "theta(poly regression for d = 2):  [3.58076915 0.78341361 0.49659591]\n",
      "training error for a quadratic fit:  0.5703016121648224\n"
     ]
    },
    {
     "data": {
      "image/png": "[encoded data removed]",
      "text/plain": [
       "<Figure size 432x288 with 1 Axes>"
      ]
     },
     "metadata": {
      "needs_background": "light"
     },
     "output_type": "display_data"
    },
    {
     "name": "stdout",
     "output_type": "stream",
     "text": [
      "theta(poly regression for d = 3):  [3.52394943 1.11846512 0.08090267 0.13787504]\n",
      "training error for a 3th order fit:  0.5700844364691353\n"
     ]
    },
    {
     "data": {
      "image/png": "[encoded data removed]",
      "text/plain": [
       "<Figure size 432x288 with 1 Axes>"
      ]
     },
     "metadata": {
      "needs_background": "light"
     },
     "output_type": "display_data"
    },
    {
     "name": "stdout",
     "output_type": "stream",
     "text": [
      "theta(poly regression for d = 4):  [ 3.85376334 -2.09126966  7.22513464 -5.38187521  1.3730722 ]\n",
      "training error for a 4th order fit:  0.5646163879286425\n"
     ]
    },
    {
     "data": {
      "image/png": "[encoded data removed]",
      "text/plain": [
       "<Figure size 432x288 with 1 Axes>"
      ]
     },
     "metadata": {
      "needs_background": "light"
     },
     "output_type": "display_data"
    },
    {
     "name": "stdout",
     "output_type": "stream",
     "text": [
      "theta(poly regression for d = 5):  [ 3.7181433  -0.1354222   0.48154349  3.53113473 -3.60926334  0.99150956]\n",
      "training error for a 5th order fit:  0.5638968184749199\n"
     ]
    },
    {
     "data": {
      "image/png": "[encoded data removed]",
      "text/plain": [
       "<Figure size 432x288 with 1 Axes>"
      ]
     },
     "metadata": {
      "needs_background": "light"
     },
     "output_type": "display_data"
    },
    {
     "name": "stdout",
     "output_type": "stream",
     "text": [
      "theta(poly regression for d = 6):  [  3.43194652   5.56010881 -27.43134436  58.72902212 -54.95621252\n",
      "  23.44890145  -3.72427726]\n",
      "training error for a 6th order fit:  0.5613433038902965\n"
     ]
    },
    {
     "data": {
      "image/png": "[encoded data removed]",
      "text/plain": [
       "<Figure size 432x288 with 1 Axes>"
      ]
     },
     "metadata": {
      "needs_background": "light"
     },
     "output_type": "display_data"
    },
    {
     "name": "stdout",
     "output_type": "stream",
     "text": [
      "theta(poly regression for d = 7):  [   2.98164398   17.311469   -104.72228095  270.37451364 -343.19084434\n",
      "  229.48681986  -77.69332837   10.51443513]\n",
      "training error for a 7th order fit:  0.55623525158195\n"
     ]
    },
    {
     "data": {
      "image/png": "[encoded data removed]",
      "text/plain": [
       "<Figure size 432x288 with 1 Axes>"
      ]
     },
     "metadata": {
      "needs_background": "light"
     },
     "output_type": "display_data"
    },
    {
     "name": "stdout",
     "output_type": "stream",
     "text": [
      "theta(poly regression for d = 8):  [   2.63574436   28.7015004  -201.17746413  617.80783844 -987.05573797\n",
      "  893.36432981 -462.3150425   127.58306479  -14.56077445]\n",
      "training error for a 8th order fit:  0.5537805800023025\n"
     ]
    },
    {
     "data": {
      "image/png": "[encoded data removed]",
      "text/plain": [
       "<Figure size 432x288 with 1 Axes>"
      ]
     },
     "metadata": {
      "needs_background": "light"
     },
     "output_type": "display_data"
    },
    {
     "name": "stdout",
     "output_type": "stream",
     "text": [
      "theta(poly regression for d = 9):  [    2.41077731    37.81581289  -297.47701359  1057.54102516\n",
      " -2043.90336227  2357.90825653 -1673.06053162   716.70991135\n",
      "  -170.16661072    17.20351464]\n",
      "training error for a 9th order fit:  0.552923335394572\n"
     ]
    },
    {
     "data": {
      "image/png": "[encoded data removed]",
      "text/plain": [
       "<Figure size 432x288 with 1 Axes>"
      ]
     },
     "metadata": {
      "needs_background": "light"
     },
     "output_type": "display_data"
    },
    {
     "name": "stdout",
     "output_type": "stream",
     "text": [
      "training error from 3th order fit to 9th order fit:  {'quadratic fit': 0.5703016121648224, '3th order fit': 0.5700844364691353, '4th order fit': 0.5646163879286425, '5th order fit': 0.5638968184749199, '6th order fit': 0.5613433038902965, '7th order fit': 0.55623525158195, '8th order fit': 0.5537805800023025, '9th order fit': 0.552923335394572}\n"
     ]
    }
   ],
   "source": [
    "training_error_for_poly_regression(input_file, output_file)"
   ]
  },
  {
   "cell_type": "markdown",
   "metadata": {},
   "source": [
    "# Question 3: Ridge regression "
   ]
  },
  {
   "cell_type": "code",
   "execution_count": 12,
   "metadata": {},
   "outputs": [],
   "source": [
    "import numpy as np\n",
    "from numpy.linalg import inv\n",
    "import matplotlib.pyplot as plt\n",
    "\n",
    "\n",
    "# TODO: (a) Calculate the exact solution theta\n",
    "def ridge_regression(tX, tY, l):\n",
    "    n = len(tX)\n",
    "    matrix_I = np.identity(tX.shape[1], dtype='float')\n",
    "    tX_transpose = tX.transpose()\n",
    "    term_1_1 = n*l*matrix_I\n",
    "    term_1_2 = np.dot(tX_transpose, tX)\n",
    "    term_1 = inv(term_1_1 + term_1_2)\n",
    "    theta = np.dot(np.dot(term_1, tX_transpose), tY)\n",
    "    print(\"when lambda={}, theta: \\n{}\".format(l, theta))\n",
    "    return theta\n",
    "\n",
    "\n",
    "# TODO: (b) Plot graphs of the validation loss and training loss as lambda =10^-5 to 10^0,\n",
    "#  return the lambda that minimizes the validation loss\n",
    "def calculate_loss_and_plot(vX, vY, tX, tY):\n",
    "    tn = tX.shape[0]\n",
    "    vn = vX.shape[0]\n",
    "    tloss = []\n",
    "    vloss = []\n",
    "    loss_dic = {}\n",
    "\n",
    "    index = -np.arange(0, 5, 0.1)\n",
    "    for i in index:\n",
    "        w = ridge_regression(tX, tY, 10**i)\n",
    "        tloss = tloss+[np.sum((np.dot(tX, w)-tY)**2/tn/2)]\n",
    "        vloss = vloss+[np.sum((np.dot(vX, w)-vY)**2/vn/2)]\n",
    "        loss_dic[np.sum((np.dot(vX, w)-vY)**2/vn/2)] = 10**i\n",
    "\n",
    "    plt.plot(index, np.log(tloss), 'r')\n",
    "    plt.plot(index, np.log(vloss), 'b')\n",
    "    plt.show()\n",
    "    min_loss_value = min(loss_dic.keys())\n",
    "    print(\"the minimum validation loss: \", min_loss_value)\n",
    "    print(\"the value of lambda with min validation loss: \", loss_dic[min_loss_value])\n"
   ]
  },
  {
   "cell_type": "markdown",
   "metadata": {},
   "source": [
    "## (a) Report the result value of theta for lambda=0.15"
   ]
  },
  {
   "cell_type": "code",
   "execution_count": 13,
   "metadata": {},
   "outputs": [
    {
     "name": "stdout",
     "output_type": "stream",
     "text": [
      "when lambda=0.15, theta: \n",
      "[[-0.57939825]\n",
      " [ 1.15033028]\n",
      " [ 0.04934122]\n",
      " [-1.59867896]]\n"
     ]
    },
    {
     "data": {
      "text/plain": [
       "array([[-0.57939825],\n",
       "       [ 1.15033028],\n",
       "       [ 0.04934122],\n",
       "       [-1.59867896]])"
      ]
     },
     "execution_count": 13,
     "metadata": {},
     "output_type": "execute_result"
    }
   ],
   "source": [
    "input_file = \"C:/Users/87173/Desktop/term6/Machine Learning/Homework/HW1/data/3/hw1_ridge_x.dat\"\n",
    "output_file = \"C:/Users/87173/Desktop/term6/Machine Learning/Homework/HW1/data/3/hw1_ridge_y.dat\"\n",
    "\n",
    "with open(input_file) as input_file:\n",
    "    input_lines = input_file.read().splitlines()\n",
    "with open(output_file) as output_file:\n",
    "    output_lines = output_file.read().splitlines()\n",
    "    \n",
    "matrix_x = np.array([line.split(',') for line in input_lines], dtype='float')\n",
    "matrix_y = np.array([[line] for line in output_lines], dtype='float')\n",
    "vX = matrix_x[0:10]\n",
    "tX = matrix_x[-40:]\n",
    "vY = matrix_y[0:10]\n",
    "tY = matrix_y[-40:]\n",
    "\n",
    "ridge_regression(tX, tY, l=0.15)"
   ]
  },
  {
   "cell_type": "markdown",
   "metadata": {},
   "source": [
    "## (b) Plot the graph. Write down the vaue of lambda that minimized the validation loss."
   ]
  },
  {
   "cell_type": "code",
   "execution_count": 14,
   "metadata": {
    "scrolled": false
   },
   "outputs": [
    {
     "name": "stdout",
     "output_type": "stream",
     "text": [
      "when lambda=1.0, theta: \n",
      "[[-0.44793198]\n",
      " [ 0.61618023]\n",
      " [ 0.0582213 ]\n",
      " [-0.87515639]]\n",
      "when lambda=0.7943282347242815, theta: \n",
      "[[-0.48110294]\n",
      " [ 0.69210787]\n",
      " [ 0.06053482]\n",
      " [-0.98133968]]\n",
      "when lambda=0.6309573444801932, theta: \n",
      "[[-0.50929184]\n",
      " [ 0.76798831]\n",
      " [ 0.0616733 ]\n",
      " [-1.08651316]]\n",
      "when lambda=0.5011872336272722, theta: \n",
      "[[-0.53209185]\n",
      " [ 0.84206302]\n",
      " [ 0.06164061]\n",
      " [-1.18816119]]\n",
      "when lambda=0.3981071705534972, theta: \n",
      "[[-0.54958271]\n",
      " [ 0.91271913]\n",
      " [ 0.0605509 ]\n",
      " [-1.28409393]]\n",
      "when lambda=0.31622776601683794, theta: \n",
      "[[-0.56224167]\n",
      " [ 0.97861849]\n",
      " [ 0.05860313]\n",
      " [-1.37261197]]\n",
      "when lambda=0.25118864315095796, theta: \n",
      "[[-0.57080314]\n",
      " [ 1.0387845 ]\n",
      " [ 0.0560429 ]\n",
      " [-1.45258977]]\n",
      "when lambda=0.19952623149688792, theta: \n",
      "[[-0.5761095 ]\n",
      " [ 1.09263618]\n",
      " [ 0.05312271]\n",
      " [-1.52347687]]\n",
      "when lambda=0.15848931924611134, theta: \n",
      "[[-0.57898688]\n",
      " [ 1.13997097]\n",
      " [ 0.05006964]\n",
      " [-1.58523299]]\n",
      "when lambda=0.12589254117941673, theta: \n",
      "[[-0.58016307]\n",
      " [ 1.18090849]\n",
      " [ 0.04706567]\n",
      " [-1.63822219]]\n",
      "when lambda=0.1, theta: \n",
      "[[-0.58022795]\n",
      " [ 1.21581238]\n",
      " [ 0.04424058]\n",
      " [-1.68309212]]\n",
      "when lambda=0.07943282347242814, theta: \n",
      "[[-0.57962745]\n",
      " [ 1.24520742]\n",
      " [ 0.04167459]\n",
      " [-1.72065907]]\n",
      "when lambda=0.0630957344480193, theta: \n",
      "[[-0.57867806]\n",
      " [ 1.26970432]\n",
      " [ 0.03940675]\n",
      " [-1.75181175]]\n",
      "when lambda=0.05011872336272722, theta: \n",
      "[[-0.57759102]\n",
      " [ 1.28993946]\n",
      " [ 0.03744532]\n",
      " [-1.77743902]]\n",
      "when lambda=0.03981071705534971, theta: \n",
      "[[-0.57649808]\n",
      " [ 1.30653149]\n",
      " [ 0.03577789]\n",
      " [-1.79838114]]\n",
      "when lambda=0.03162277660168379, theta: \n",
      "[[-0.57547452]\n",
      " [ 1.32005374]\n",
      " [ 0.03437976]\n",
      " [-1.81540128]]\n",
      "when lambda=0.025118864315095794, theta: \n",
      "[[-0.57455773]\n",
      " [ 1.33101933]\n",
      " [ 0.03322023]\n",
      " [-1.8291722 ]]\n",
      "when lambda=0.01995262314968879, theta: \n",
      "[[-0.57376102]\n",
      " [ 1.33987554]\n",
      " [ 0.03226697]\n",
      " [-1.84027375]]\n",
      "when lambda=0.015848931924611134, theta: \n",
      "[[-0.57308337]\n",
      " [ 1.34700462]\n",
      " [ 0.03148877]\n",
      " [-1.84919708]]\n",
      "when lambda=0.012589254117941668, theta: \n",
      "[[-0.57251602]\n",
      " [ 1.35272812]\n",
      " [ 0.03085701]\n",
      " [-1.85635258]]\n",
      "when lambda=0.01, theta: \n",
      "[[-0.57204658]\n",
      " [ 1.35731334]\n",
      " [ 0.0303464 ]\n",
      " [-1.86207954]]\n",
      "when lambda=0.007943282347242814, theta: \n",
      "[[-0.57166163]\n",
      " [ 1.36098035]\n",
      " [ 0.02993519]\n",
      " [-1.86665616]]\n",
      "when lambda=0.00630957344480193, theta: \n",
      "[[-0.57134814]\n",
      " [ 1.36390899]\n",
      " [ 0.02960494]\n",
      " [-1.87030902]]\n",
      "when lambda=0.005011872336272719, theta: \n",
      "[[-0.57109419]\n",
      " [ 1.36624535]\n",
      " [ 0.02934033]\n",
      " [-1.87322172]]\n",
      "when lambda=0.003981071705534969, theta: \n",
      "[[-0.57088933]\n",
      " [ 1.36810757]\n",
      " [ 0.02912867]\n",
      " [-1.87554243]]\n",
      "when lambda=0.0031622776601683794, theta: \n",
      "[[-0.57072461]\n",
      " [ 1.36959085]\n",
      " [ 0.02895962]\n",
      " [-1.87739031]]\n",
      "when lambda=0.0025118864315095794, theta: \n",
      "[[-0.57059251]\n",
      " [ 1.37077162]\n",
      " [ 0.02882474]\n",
      " [-1.87886097]]\n",
      "when lambda=0.001995262314968879, theta: \n",
      "[[-0.57048677]\n",
      " [ 1.37171116]\n",
      " [ 0.02871724]\n",
      " [-1.88003095]]\n",
      "when lambda=0.0015848931924611126, theta: \n",
      "[[-0.57040227]\n",
      " [ 1.3724585 ]\n",
      " [ 0.02863161]\n",
      " [-1.88096144]]\n",
      "when lambda=0.0012589254117941662, theta: \n",
      "[[-0.57033483]\n",
      " [ 1.37305277]\n",
      " [ 0.02856344]\n",
      " [-1.88170126]]\n",
      "when lambda=0.001, theta: \n",
      "[[-0.57028106]\n",
      " [ 1.37352524]\n",
      " [ 0.02850919]\n",
      " [-1.88228938]]\n",
      "when lambda=0.0007943282347242813, theta: \n",
      "[[-0.57023821]\n",
      " [ 1.37390079]\n",
      " [ 0.02846605]\n",
      " [-1.88275683]]\n",
      "when lambda=0.000630957344480193, theta: \n",
      "[[-0.5702041 ]\n",
      " [ 1.37419926]\n",
      " [ 0.02843174]\n",
      " [-1.88312831]]\n",
      "when lambda=0.000501187233627272, theta: \n",
      "[[-0.57017695]\n",
      " [ 1.37443645]\n",
      " [ 0.02840446]\n",
      " [-1.88342351]]\n",
      "when lambda=0.0003981071705534969, theta: \n",
      "[[-0.57015536]\n",
      " [ 1.37462492]\n",
      " [ 0.02838278]\n",
      " [-1.88365806]]\n",
      "when lambda=0.00031622776601683794, theta: \n",
      "[[-0.57013818]\n",
      " [ 1.37477467]\n",
      " [ 0.02836554]\n",
      " [-1.88384442]]\n",
      "when lambda=0.00025118864315095795, theta: \n",
      "[[-0.57012453]\n",
      " [ 1.37489365]\n",
      " [ 0.02835185]\n",
      " [-1.88399248]]\n",
      "when lambda=0.00019952623149688788, theta: \n",
      "[[-0.57011367]\n",
      " [ 1.37498817]\n",
      " [ 0.02834097]\n",
      " [-1.8841101 ]]\n",
      "when lambda=0.00015848931924611126, theta: \n",
      "[[-0.57010504]\n",
      " [ 1.37506326]\n",
      " [ 0.02833232]\n",
      " [-1.88420355]]\n",
      "when lambda=0.0001258925411794166, theta: \n",
      "[[-0.57009819]\n",
      " [ 1.37512292]\n",
      " [ 0.02832545]\n",
      " [-1.88427778]]\n",
      "when lambda=0.0001, theta: \n",
      "[[-0.57009274]\n",
      " [ 1.3751703 ]\n",
      " [ 0.02832   ]\n",
      " [-1.88433675]]\n",
      "when lambda=7.943282347242806e-05, theta: \n",
      "[[-0.57008841]\n",
      " [ 1.37520795]\n",
      " [ 0.02831566]\n",
      " [-1.8843836 ]]\n",
      "when lambda=6.309573444801929e-05, theta: \n",
      "[[-0.57008497]\n",
      " [ 1.37523785]\n",
      " [ 0.02831222]\n",
      " [-1.88442081]]\n",
      "when lambda=5.011872336272725e-05, theta: \n",
      "[[-0.57008224]\n",
      " [ 1.37526161]\n",
      " [ 0.02830948]\n",
      " [-1.88445037]]\n",
      "when lambda=3.9810717055349695e-05, theta: \n",
      "[[-0.57008007]\n",
      " [ 1.37528048]\n",
      " [ 0.02830731]\n",
      " [-1.88447385]]\n",
      "when lambda=3.1622776601683795e-05, theta: \n",
      "[[-0.57007834]\n",
      " [ 1.37529547]\n",
      " [ 0.02830558]\n",
      " [-1.8844925 ]]\n",
      "when lambda=2.511886431509577e-05, theta: \n",
      "[[-0.57007697]\n",
      " [ 1.37530738]\n",
      " [ 0.02830421]\n",
      " [-1.88450731]]\n",
      "when lambda=1.9952623149688786e-05, theta: \n",
      "[[-0.57007588]\n",
      " [ 1.37531683]\n",
      " [ 0.02830312]\n",
      " [-1.88451908]]\n",
      "when lambda=1.5848931924611107e-05, theta: \n",
      "[[-0.57007502]\n",
      " [ 1.37532435]\n",
      " [ 0.02830225]\n",
      " [-1.88452843]]\n",
      "when lambda=1.2589254117941661e-05, theta: \n",
      "[[-0.57007433]\n",
      " [ 1.37533031]\n",
      " [ 0.02830157]\n",
      " [-1.88453586]]\n"
     ]
    },
    {
     "data": {
      "image/png": "[encoded data removed]",
      "text/plain": [
       "<Figure size 432x288 with 1 Axes>"
      ]
     },
     "metadata": {
      "needs_background": "light"
     },
     "output_type": "display_data"
    },
    {
     "name": "stdout",
     "output_type": "stream",
     "text": [
      "the minimum validation loss:  0.007627810885830867\n",
      "the value of lambda with min validation loss:  0.012589254117941668\n"
     ]
    }
   ],
   "source": [
    "calculate_loss_and_plot(vX, vY, tX, tY)\n"
   ]
  },
  {
   "cell_type": "code",
   "execution_count": null,
   "metadata": {},
   "outputs": [],
   "source": []
  },
  {
   "cell_type": "code",
   "execution_count": null,
   "metadata": {},
   "outputs": [],
   "source": []
  }
 ],
 "metadata": {
  "kernelspec": {
   "display_name": "Python 3",
   "language": "python",
   "name": "python3"
  },
  "language_info": {
   "codemirror_mode": {
    "name": "ipython",
    "version": 3
   },
   "file_extension": ".py",
   "mimetype": "text/x-python",
   "name": "python",
   "nbconvert_exporter": "python",
   "pygments_lexer": "ipython3",
   "version": "3.7.3"
  }
 },
 "nbformat": 4,
 "nbformat_minor": 2
}
